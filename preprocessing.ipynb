{
  "nbformat": 4,
  "nbformat_minor": 0,
  "metadata": {
    "colab": {
      "provenance": [],
      "authorship_tag": "ABX9TyNKtWUdpiNdMV89xPrW44Pq",
      "include_colab_link": true
    },
    "kernelspec": {
      "name": "python3",
      "display_name": "Python 3"
    },
    "language_info": {
      "name": "python"
    }
  },
  "cells": [
    {
      "cell_type": "markdown",
      "metadata": {
        "id": "view-in-github",
        "colab_type": "text"
      },
      "source": [
        "<a href=\"https://colab.research.google.com/github/vishnucontrol/ss_churn_prediction/blob/main/ss_prepro.ipynb\" target=\"_parent\"><img src=\"https://colab.research.google.com/assets/colab-badge.svg\" alt=\"Open In Colab\"/></a>"
      ]
    },
    {
      "cell_type": "code",
      "execution_count": null,
      "metadata": {
        "id": "68eoelvrzNIt"
      },
      "outputs": [],
      "source": []
    },
    {
      "cell_type": "code",
      "source": [
        "from google.colab import drive\n",
        "drive.mount('/content/drive')"
      ],
      "metadata": {
        "colab": {
          "base_uri": "https://localhost:8080/"
        },
        "id": "7P7Zan0A0Oes",
        "outputId": "71089f5b-35bd-4e1a-b5c8-0f2e0050131e"
      },
      "execution_count": 1,
      "outputs": [
        {
          "output_type": "stream",
          "name": "stdout",
          "text": [
            "Mounted at /content/drive\n"
          ]
        }
      ]
    },
    {
      "cell_type": "code",
      "source": [
        "import pandas as pd\n",
        "\n",
        "# Load dataset (assuming a CSV file)\n",
        "df = pd.read_csv('/content/drive/MyDrive/NOTES/churn_data/E Commerce Dataset.csv')\n"
      ],
      "metadata": {
        "id": "kf_Ib76b1Azl"
      },
      "execution_count": 24,
      "outputs": []
    },
    {
      "cell_type": "code",
      "source": [
        "# Basic info of the dataset\n",
        "print(df.info())\n",
        "\n",
        "# Show sample records\n",
        "print(df.head())\n"
      ],
      "metadata": {
        "colab": {
          "base_uri": "https://localhost:8080/"
        },
        "id": "HZ-YseEv1NlX",
        "outputId": "74c6e299-cef8-4898-b346-06f523591aff"
      },
      "execution_count": 26,
      "outputs": [
        {
          "output_type": "stream",
          "name": "stdout",
          "text": [
            "<class 'pandas.core.frame.DataFrame'>\n",
            "Index: 5630 entries, 0 to 5629\n",
            "Data columns (total 20 columns):\n",
            " #   Column                       Non-Null Count  Dtype  \n",
            "---  ------                       --------------  -----  \n",
            " 0   customerid                   5630 non-null   int64  \n",
            " 1   churn                        5630 non-null   int64  \n",
            " 2   tenure                       5366 non-null   float64\n",
            " 3   preferredlogindevice         5630 non-null   object \n",
            " 4   citytier                     5630 non-null   int64  \n",
            " 5   warehousetohome              5379 non-null   float64\n",
            " 6   preferredpaymentmode         5630 non-null   object \n",
            " 7   gender                       5630 non-null   object \n",
            " 8   hourspendonapp               5375 non-null   float64\n",
            " 9   numberofdeviceregistered     5630 non-null   int64  \n",
            " 10  preferedordercat             5630 non-null   object \n",
            " 11  satisfactionscore            5630 non-null   int64  \n",
            " 12  maritalstatus                5630 non-null   object \n",
            " 13  numberofaddress              5630 non-null   int64  \n",
            " 14  complain                     5630 non-null   int64  \n",
            " 15  orderamounthikefromlastyear  5365 non-null   float64\n",
            " 16  couponused                   5374 non-null   float64\n",
            " 17  ordercount                   5372 non-null   float64\n",
            " 18  daysincelastorder            5323 non-null   float64\n",
            " 19  cashbackamount               5630 non-null   float64\n",
            "dtypes: float64(8), int64(7), object(5)\n",
            "memory usage: 923.7+ KB\n",
            "None\n",
            "   customerid  churn  tenure preferredlogindevice  citytier  warehousetohome  \\\n",
            "0       50001      1     4.0         Mobile Phone         3              6.0   \n",
            "1       50002      1     NaN                Phone         1              8.0   \n",
            "2       50003      1     NaN                Phone         1             30.0   \n",
            "3       50004      1     0.0                Phone         3             15.0   \n",
            "4       50005      1     0.0                Phone         1             12.0   \n",
            "\n",
            "  preferredpaymentmode  gender  hourspendonapp  numberofdeviceregistered  \\\n",
            "0           Debit Card  Female             3.0                         3   \n",
            "1                  UPI    Male             3.0                         4   \n",
            "2           Debit Card    Male             2.0                         4   \n",
            "3           Debit Card    Male             2.0                         4   \n",
            "4                   CC    Male             NaN                         3   \n",
            "\n",
            "     preferedordercat  satisfactionscore maritalstatus  numberofaddress  \\\n",
            "0  Laptop & Accessory                  2        Single                9   \n",
            "1              Mobile                  3        Single                7   \n",
            "2              Mobile                  3        Single                6   \n",
            "3  Laptop & Accessory                  5        Single                8   \n",
            "4              Mobile                  5        Single                3   \n",
            "\n",
            "   complain  orderamounthikefromlastyear  couponused  ordercount  \\\n",
            "0         1                         11.0         1.0         1.0   \n",
            "1         1                         15.0         0.0         1.0   \n",
            "2         1                         14.0         0.0         1.0   \n",
            "3         0                         23.0         0.0         1.0   \n",
            "4         0                         11.0         1.0         1.0   \n",
            "\n",
            "   daysincelastorder  cashbackamount  \n",
            "0                5.0          159.93  \n",
            "1                0.0          120.90  \n",
            "2                3.0          120.28  \n",
            "3                3.0          134.07  \n",
            "4                3.0          129.60  \n"
          ]
        }
      ]
    },
    {
      "cell_type": "code",
      "source": [
        "# Assuming df is your DataFrame\n",
        "threshold = 0.05  # 5%\n",
        "\n",
        "# Iterate through each column to check null values\n",
        "for column in df.columns:\n",
        "    # Calculate the percentage of null values for the column\n",
        "    null_percentage = df[column].isnull().mean()\n",
        "\n",
        "    # If null percentage is less than 5%, drop those rows\n",
        "    if null_percentage < threshold:\n",
        "        df.dropna(subset=[column], inplace=True)\n"
      ],
      "metadata": {
        "id": "IH3_1nTJ1PCs"
      },
      "execution_count": 27,
      "outputs": []
    },
    {
      "cell_type": "code",
      "source": [
        "categorical_columns in df.columns"
      ],
      "metadata": {
        "colab": {
          "base_uri": "https://localhost:8080/",
          "height": 263
        },
        "id": "8onb_OQ83t1q",
        "outputId": "f1c4c718-48dc-49af-a019-a434438e7277"
      },
      "execution_count": 38,
      "outputs": [
        {
          "output_type": "error",
          "ename": "TypeError",
          "evalue": "unhashable type: 'Index'",
          "traceback": [
            "\u001b[0;31m---------------------------------------------------------------------------\u001b[0m",
            "\u001b[0;31mTypeError\u001b[0m                                 Traceback (most recent call last)",
            "\u001b[0;32m<ipython-input-38-ad55dfe01a1f>\u001b[0m in \u001b[0;36m<cell line: 1>\u001b[0;34m()\u001b[0m\n\u001b[0;32m----> 1\u001b[0;31m \u001b[0mcategorical_columns\u001b[0m \u001b[0;32min\u001b[0m \u001b[0mdf\u001b[0m\u001b[0;34m.\u001b[0m\u001b[0mcolumns\u001b[0m\u001b[0;34m\u001b[0m\u001b[0;34m\u001b[0m\u001b[0m\n\u001b[0m",
            "\u001b[0;32m/usr/local/lib/python3.10/dist-packages/pandas/core/indexes/base.py\u001b[0m in \u001b[0;36m__contains__\u001b[0;34m(self, key)\u001b[0m\n\u001b[1;32m   5333\u001b[0m         \u001b[0;32mFalse\u001b[0m\u001b[0;34m\u001b[0m\u001b[0;34m\u001b[0m\u001b[0m\n\u001b[1;32m   5334\u001b[0m         \"\"\"\n\u001b[0;32m-> 5335\u001b[0;31m         \u001b[0mhash\u001b[0m\u001b[0;34m(\u001b[0m\u001b[0mkey\u001b[0m\u001b[0;34m)\u001b[0m\u001b[0;34m\u001b[0m\u001b[0;34m\u001b[0m\u001b[0m\n\u001b[0m\u001b[1;32m   5336\u001b[0m         \u001b[0;32mtry\u001b[0m\u001b[0;34m:\u001b[0m\u001b[0;34m\u001b[0m\u001b[0;34m\u001b[0m\u001b[0m\n\u001b[1;32m   5337\u001b[0m             \u001b[0;32mreturn\u001b[0m \u001b[0mkey\u001b[0m \u001b[0;32min\u001b[0m \u001b[0mself\u001b[0m\u001b[0;34m.\u001b[0m\u001b[0m_engine\u001b[0m\u001b[0;34m\u001b[0m\u001b[0;34m\u001b[0m\u001b[0m\n",
            "\u001b[0;31mTypeError\u001b[0m: unhashable type: 'Index'"
          ]
        }
      ]
    },
    {
      "cell_type": "code",
      "source": [
        "# Convert categorical variables using one-hot encoding\n",
        "categorical_columns = df.select_dtypes(include=['object', 'category']).columns\n",
        "if len(categorical_columns) > 0:\n",
        "\n",
        "  df = pd.get_dummies(df, columns=categorical_columns)\n",
        "\n",
        "# Or use label encoding for ordinal features\n",
        "  from sklearn.preprocessing import LabelEncoder\n",
        "  le = LabelEncoder()\n",
        "  df['satisfactionscore'] = le.fit_transform(df['satisfactionscore'])\n"
      ],
      "metadata": {
        "id": "tJc1mh_r2zx_"
      },
      "execution_count": 37,
      "outputs": []
    },
    {
      "cell_type": "code",
      "source": [
        "from sklearn.preprocessing import StandardScaler, MinMaxScaler\n",
        "\n",
        "# Option 1: Standardize the data\n",
        "scaler = StandardScaler()\n",
        "numeric_columns = df.select_dtypes(include=['number']).columns\n",
        "if len(numeric_columns) > 0:\n",
        "  df[numeric_columns] = scaler.fit_transform(df[numeric_columns])\n",
        "\n",
        "# Option 2: Min-Max Scale the data\n",
        "  min_max_scaler = MinMaxScaler()\n",
        "  df[numeric_columns] = min_max_scaler.fit_transform(df[numeric_columns])\n"
      ],
      "metadata": {
        "id": "ViZwGVBu3KVa"
      },
      "execution_count": 41,
      "outputs": []
    },
    {
      "cell_type": "code",
      "source": [
        "df.columns"
      ],
      "metadata": {
        "colab": {
          "base_uri": "https://localhost:8080/"
        },
        "id": "abuqxSKr76QF",
        "outputId": "e99a346a-177e-4102-9766-b42995ccd405"
      },
      "execution_count": 44,
      "outputs": [
        {
          "output_type": "execute_result",
          "data": {
            "text/plain": [
              "Index(['customerid', 'churn', 'tenure', 'citytier', 'warehousetohome',\n",
              "       'hourspendonapp', 'numberofdeviceregistered', 'satisfactionscore',\n",
              "       'numberofaddress', 'complain', 'orderamounthikefromlastyear',\n",
              "       'couponused', 'ordercount', 'daysincelastorder', 'cashbackamount',\n",
              "       'preferredlogindevice_Computer', 'preferredlogindevice_Mobile Phone',\n",
              "       'preferredlogindevice_Phone', 'preferredpaymentmode_CC',\n",
              "       'preferredpaymentmode_COD', 'preferredpaymentmode_Cash on Delivery',\n",
              "       'preferredpaymentmode_Credit Card', 'preferredpaymentmode_Debit Card',\n",
              "       'preferredpaymentmode_E wallet', 'preferredpaymentmode_UPI',\n",
              "       'gender_Female', 'gender_Male', 'preferedordercat_Fashion',\n",
              "       'preferedordercat_Grocery', 'preferedordercat_Laptop & Accessory',\n",
              "       'preferedordercat_Mobile', 'preferedordercat_Mobile Phone',\n",
              "       'preferedordercat_Others', 'maritalstatus_Divorced',\n",
              "       'maritalstatus_Married', 'maritalstatus_Single'],\n",
              "      dtype='object')"
            ]
          },
          "metadata": {},
          "execution_count": 44
        }
      ]
    },
    {
      "cell_type": "code",
      "source": [
        "from sklearn.model_selection import train_test_split\n",
        "\n",
        "X = df.drop('churn', axis=1)\n",
        "y = df['churn']\n",
        "\n",
        "X_train, X_test, y_train, y_test = train_test_split(X, y, test_size=0.2, random_state=42)\n"
      ],
      "metadata": {
        "id": "uyZ2bqBp5kfj"
      },
      "execution_count": 43,
      "outputs": []
    },
    {
      "cell_type": "code",
      "source": [
        "from sklearn.pipeline import Pipeline\n",
        "\n",
        "pipeline = Pipeline([\n",
        "    ('scaler', StandardScaler()),\n",
        "    ('vectorizer', TfidfVectorizer()),\n",
        "    # Add more steps as needed\n",
        "])\n"
      ],
      "metadata": {
        "id": "wVSYaoYE5n-P"
      },
      "execution_count": 45,
      "outputs": []
    },
    {
      "cell_type": "code",
      "source": [
        "print(X_train.shape)\n",
        "print(X_test.shape)\n"
      ],
      "metadata": {
        "colab": {
          "base_uri": "https://localhost:8080/"
        },
        "id": "Zlqs48Q55rZv",
        "outputId": "5b24b3c9-3bdb-4d1a-9594-06248fef1ec1"
      },
      "execution_count": 46,
      "outputs": [
        {
          "output_type": "stream",
          "name": "stdout",
          "text": [
            "(3888, 35)\n",
            "(972, 35)\n"
          ]
        }
      ]
    }
  ]
}
